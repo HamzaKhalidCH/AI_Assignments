{
  "nbformat": 4,
  "nbformat_minor": 0,
  "metadata": {
    "colab": {
      "name": "Assignment5_Q1.ipynb",
      "provenance": [],
      "collapsed_sections": [],
      "toc_visible": true
    },
    "kernelspec": {
      "name": "python3",
      "display_name": "Python 3"
    }
  },
  "cells": [
    {
      "cell_type": "code",
      "metadata": {
        "id": "h_Ib0cbZoK9b",
        "colab_type": "code",
        "colab": {
          "base_uri": "https://localhost:8080/",
          "height": 71
        },
        "outputId": "dba67d64-d18d-439c-cd4c-c0bcbd50e08d"
      },
      "source": [
        "import numpy as np\n",
        "import pandas as pd \n",
        "from sklearn.model_selection import train_test_split\n",
        "from sklearn import linear_model\n",
        "from sklearn.neighbors import KNeighborsRegressor\n",
        "from sklearn.preprocessing import PolynomialFeatures\n",
        "from sklearn import metrics\n",
        "from sklearn.model_selection import cross_val_score\n",
        "import matplotlib.pyplot as plt\n",
        "import seaborn as sns"
      ],
      "execution_count": 1,
      "outputs": [
        {
          "output_type": "stream",
          "text": [
            "/usr/local/lib/python3.6/dist-packages/statsmodels/tools/_testing.py:19: FutureWarning: pandas.util.testing is deprecated. Use the functions in the public API at pandas.testing instead.\n",
            "  import pandas.util.testing as tm\n"
          ],
          "name": "stderr"
        }
      ]
    },
    {
      "cell_type": "code",
      "metadata": {
        "id": "cMENf_owpChf",
        "colab_type": "code",
        "colab": {
          "base_uri": "https://localhost:8080/",
          "height": 224
        },
        "outputId": "ff11a00d-44bd-43bc-914d-48f429e3fea3"
      },
      "source": [
        "df = pd.read_csv('/content/drive/My Drive/AI_Datasets/House_data.csv')\n",
        "df.head(5)"
      ],
      "execution_count": 5,
      "outputs": [
        {
          "output_type": "execute_result",
          "data": {
            "text/html": [
              "<div>\n",
              "<style scoped>\n",
              "    .dataframe tbody tr th:only-of-type {\n",
              "        vertical-align: middle;\n",
              "    }\n",
              "\n",
              "    .dataframe tbody tr th {\n",
              "        vertical-align: top;\n",
              "    }\n",
              "\n",
              "    .dataframe thead th {\n",
              "        text-align: right;\n",
              "    }\n",
              "</style>\n",
              "<table border=\"1\" class=\"dataframe\">\n",
              "  <thead>\n",
              "    <tr style=\"text-align: right;\">\n",
              "      <th></th>\n",
              "      <th>id</th>\n",
              "      <th>date</th>\n",
              "      <th>price</th>\n",
              "      <th>bedrooms</th>\n",
              "      <th>bathrooms</th>\n",
              "      <th>sqft_living</th>\n",
              "      <th>sqft_lot</th>\n",
              "      <th>floors</th>\n",
              "      <th>waterfront</th>\n",
              "      <th>view</th>\n",
              "      <th>condition</th>\n",
              "      <th>grade</th>\n",
              "      <th>sqft_above</th>\n",
              "      <th>sqft_basement</th>\n",
              "      <th>yr_built</th>\n",
              "      <th>yr_renovated</th>\n",
              "      <th>zipcode</th>\n",
              "      <th>lat</th>\n",
              "      <th>long</th>\n",
              "      <th>sqft_living15</th>\n",
              "      <th>sqft_lot15</th>\n",
              "    </tr>\n",
              "  </thead>\n",
              "  <tbody>\n",
              "    <tr>\n",
              "      <th>0</th>\n",
              "      <td>7129300520</td>\n",
              "      <td>20141013T000000</td>\n",
              "      <td>221900.0</td>\n",
              "      <td>3</td>\n",
              "      <td>1.00</td>\n",
              "      <td>1180</td>\n",
              "      <td>5650</td>\n",
              "      <td>1.0</td>\n",
              "      <td>0</td>\n",
              "      <td>0</td>\n",
              "      <td>3</td>\n",
              "      <td>7</td>\n",
              "      <td>1180</td>\n",
              "      <td>0</td>\n",
              "      <td>1955</td>\n",
              "      <td>0</td>\n",
              "      <td>98178</td>\n",
              "      <td>47.5112</td>\n",
              "      <td>-122.257</td>\n",
              "      <td>1340</td>\n",
              "      <td>5650</td>\n",
              "    </tr>\n",
              "    <tr>\n",
              "      <th>1</th>\n",
              "      <td>6414100192</td>\n",
              "      <td>20141209T000000</td>\n",
              "      <td>538000.0</td>\n",
              "      <td>3</td>\n",
              "      <td>2.25</td>\n",
              "      <td>2570</td>\n",
              "      <td>7242</td>\n",
              "      <td>2.0</td>\n",
              "      <td>0</td>\n",
              "      <td>0</td>\n",
              "      <td>3</td>\n",
              "      <td>7</td>\n",
              "      <td>2170</td>\n",
              "      <td>400</td>\n",
              "      <td>1951</td>\n",
              "      <td>1991</td>\n",
              "      <td>98125</td>\n",
              "      <td>47.7210</td>\n",
              "      <td>-122.319</td>\n",
              "      <td>1690</td>\n",
              "      <td>7639</td>\n",
              "    </tr>\n",
              "    <tr>\n",
              "      <th>2</th>\n",
              "      <td>5631500400</td>\n",
              "      <td>20150225T000000</td>\n",
              "      <td>180000.0</td>\n",
              "      <td>2</td>\n",
              "      <td>1.00</td>\n",
              "      <td>770</td>\n",
              "      <td>10000</td>\n",
              "      <td>1.0</td>\n",
              "      <td>0</td>\n",
              "      <td>0</td>\n",
              "      <td>3</td>\n",
              "      <td>6</td>\n",
              "      <td>770</td>\n",
              "      <td>0</td>\n",
              "      <td>1933</td>\n",
              "      <td>0</td>\n",
              "      <td>98028</td>\n",
              "      <td>47.7379</td>\n",
              "      <td>-122.233</td>\n",
              "      <td>2720</td>\n",
              "      <td>8062</td>\n",
              "    </tr>\n",
              "    <tr>\n",
              "      <th>3</th>\n",
              "      <td>2487200875</td>\n",
              "      <td>20141209T000000</td>\n",
              "      <td>604000.0</td>\n",
              "      <td>4</td>\n",
              "      <td>3.00</td>\n",
              "      <td>1960</td>\n",
              "      <td>5000</td>\n",
              "      <td>1.0</td>\n",
              "      <td>0</td>\n",
              "      <td>0</td>\n",
              "      <td>5</td>\n",
              "      <td>7</td>\n",
              "      <td>1050</td>\n",
              "      <td>910</td>\n",
              "      <td>1965</td>\n",
              "      <td>0</td>\n",
              "      <td>98136</td>\n",
              "      <td>47.5208</td>\n",
              "      <td>-122.393</td>\n",
              "      <td>1360</td>\n",
              "      <td>5000</td>\n",
              "    </tr>\n",
              "    <tr>\n",
              "      <th>4</th>\n",
              "      <td>1954400510</td>\n",
              "      <td>20150218T000000</td>\n",
              "      <td>510000.0</td>\n",
              "      <td>3</td>\n",
              "      <td>2.00</td>\n",
              "      <td>1680</td>\n",
              "      <td>8080</td>\n",
              "      <td>1.0</td>\n",
              "      <td>0</td>\n",
              "      <td>0</td>\n",
              "      <td>3</td>\n",
              "      <td>8</td>\n",
              "      <td>1680</td>\n",
              "      <td>0</td>\n",
              "      <td>1987</td>\n",
              "      <td>0</td>\n",
              "      <td>98074</td>\n",
              "      <td>47.6168</td>\n",
              "      <td>-122.045</td>\n",
              "      <td>1800</td>\n",
              "      <td>7503</td>\n",
              "    </tr>\n",
              "  </tbody>\n",
              "</table>\n",
              "</div>"
            ],
            "text/plain": [
              "           id             date     price  ...     long  sqft_living15  sqft_lot15\n",
              "0  7129300520  20141013T000000  221900.0  ... -122.257           1340        5650\n",
              "1  6414100192  20141209T000000  538000.0  ... -122.319           1690        7639\n",
              "2  5631500400  20150225T000000  180000.0  ... -122.233           2720        8062\n",
              "3  2487200875  20141209T000000  604000.0  ... -122.393           1360        5000\n",
              "4  1954400510  20150218T000000  510000.0  ... -122.045           1800        7503\n",
              "\n",
              "[5 rows x 21 columns]"
            ]
          },
          "metadata": {
            "tags": []
          },
          "execution_count": 5
        }
      ]
    },
    {
      "cell_type": "code",
      "metadata": {
        "id": "uNs-QI91r0v9",
        "colab_type": "code",
        "colab": {}
      },
      "source": [
        "def adjustedR2(r2,n,k):\n",
        "    return r2-(k-1)/(n-k)*(1-r2)"
      ],
      "execution_count": 0,
      "outputs": []
    },
    {
      "cell_type": "code",
      "metadata": {
        "id": "83ZX-OAcqBIg",
        "colab_type": "code",
        "colab": {
          "base_uri": "https://localhost:8080/",
          "height": 34
        },
        "outputId": "9ab81186-330d-4766-c27a-ae8cbfadd89a"
      },
      "source": [
        "train_data_model1,test_data_model1 = train_test_split(df,train_size = 0.8,random_state=3)\n",
        "features = ['bedrooms','bathrooms','sqft_living','sqft_lot','floors','zipcode','condition']\n",
        "model1 = linear_model.LinearRegression()\n",
        "model1.fit(train_data_model1[features],train_data_model1['price'])"
      ],
      "execution_count": 12,
      "outputs": [
        {
          "output_type": "execute_result",
          "data": {
            "text/plain": [
              "LinearRegression(copy_X=True, fit_intercept=True, n_jobs=None, normalize=False)"
            ]
          },
          "metadata": {
            "tags": []
          },
          "execution_count": 12
        }
      ]
    },
    {
      "cell_type": "code",
      "metadata": {
        "id": "WSX25XlYsa3r",
        "colab_type": "code",
        "colab": {
          "base_uri": "https://localhost:8080/",
          "height": 68
        },
        "outputId": "06a392a6-c900-4407-ef8d-a7f57155dd47"
      },
      "source": [
        "\n",
        "print(\"Intercept : \",model1.intercept_)\n",
        "print(\"Coefficients : \",model1.coef_)"
      ],
      "execution_count": 13,
      "outputs": [
        {
          "output_type": "stream",
          "text": [
            "Intercept :  -57726728.3736026\n",
            "Coefficients :  [-6.02067969e+04  1.43269624e+04  3.16981268e+02 -2.80418714e-01\n",
            "  1.14797255e+04  5.87082132e+02  5.49133348e+04]\n"
          ],
          "name": "stdout"
        }
      ]
    },
    {
      "cell_type": "code",
      "metadata": {
        "id": "Unt3XD3PtKht",
        "colab_type": "code",
        "colab": {}
      },
      "source": [
        "predict = model1.predict(test_data_model1[features])\n",
        "RMSE_m1 = float(format(np.sqrt(metrics.mean_squared_error(test_data_model1['price'],predict)),'.3f'))\n",
        "Rtr_m1 = float(format(model1.score(train_data_model1[features],train_data_model1['price']),'.3f'))\n",
        "ARtr_m1 = float(format(adjustedR2(model1.score(train_data_model1[features],train_data_model1['price']),train_data_model1.shape[0],len(features)),'.3f'))\n",
        "\n",
        "\n"
      ],
      "execution_count": 0,
      "outputs": []
    },
    {
      "cell_type": "code",
      "metadata": {
        "id": "1Mwv5hNOwc8o",
        "colab_type": "code",
        "colab": {}
      },
      "source": [
        "RTecm = float(format(model1.score(test_data_model1[features],test_data_model1['price']),'.3f'))\n",
        "ARtecm = float(format(adjustedR2(model1.score(test_data_model1[features],test_data_model1['price']),test_data_model1.shape[0],len(features)),'.3f'))\n",
        "cv = float(format(cross_val_score(model1,df[features],df['price'],cv=5).mean(),'.3f'))\n"
      ],
      "execution_count": 0,
      "outputs": []
    },
    {
      "cell_type": "code",
      "metadata": {
        "id": "JdHk6ldqycAb",
        "colab_type": "code",
        "colab": {}
      },
      "source": [
        "evaluation = pd.DataFrame({'Model': [],\n",
        "                           'Details':[],\n",
        "                           'Root Mean Squared Error (RMSE)':[],\n",
        "                           'R-squared (training)':[],\n",
        "                           'Adjusted R-squared (training)':[],\n",
        "                           'R-squared (test)':[],\n",
        "                           'Adjusted R-squared (test)':[],\n",
        "                           '5-Fold Cross Validation':[]})"
      ],
      "execution_count": 0,
      "outputs": []
    },
    {
      "cell_type": "code",
      "metadata": {
        "id": "OUsxyUA3xEll",
        "colab_type": "code",
        "colab": {
          "base_uri": "https://localhost:8080/",
          "height": 148
        },
        "outputId": "b5e96229-0bc4-4f38-d272-9ad18adec258"
      },
      "source": [
        "r = evaluation.shape[0]\n",
        "evaluation.loc[r] = ['Multiple Regression-1','selected features',RMSE_m1,Rtr_m1,ARtr_m1,RTecm,ARtecm,cv]\n",
        "evaluation.sort_values(by = '5-Fold Cross Validation', ascending=False)"
      ],
      "execution_count": 25,
      "outputs": [
        {
          "output_type": "execute_result",
          "data": {
            "text/html": [
              "<div>\n",
              "<style scoped>\n",
              "    .dataframe tbody tr th:only-of-type {\n",
              "        vertical-align: middle;\n",
              "    }\n",
              "\n",
              "    .dataframe tbody tr th {\n",
              "        vertical-align: top;\n",
              "    }\n",
              "\n",
              "    .dataframe thead th {\n",
              "        text-align: right;\n",
              "    }\n",
              "</style>\n",
              "<table border=\"1\" class=\"dataframe\">\n",
              "  <thead>\n",
              "    <tr style=\"text-align: right;\">\n",
              "      <th></th>\n",
              "      <th>Model</th>\n",
              "      <th>Details</th>\n",
              "      <th>Root Mean Squared Error (RMSE)</th>\n",
              "      <th>R-squared (training)</th>\n",
              "      <th>Adjusted R-squared (training)</th>\n",
              "      <th>R-squared (test)</th>\n",
              "      <th>Adjusted R-squared (test)</th>\n",
              "      <th>5-Fold Cross Validation</th>\n",
              "    </tr>\n",
              "  </thead>\n",
              "  <tbody>\n",
              "    <tr>\n",
              "      <th>0</th>\n",
              "      <td>Multiple Regression-1</td>\n",
              "      <td>selected features</td>\n",
              "      <td>246512.67</td>\n",
              "      <td>0.523</td>\n",
              "      <td>0.523</td>\n",
              "      <td>0.527</td>\n",
              "      <td>0.526</td>\n",
              "      <td>0.521</td>\n",
              "    </tr>\n",
              "  </tbody>\n",
              "</table>\n",
              "</div>"
            ],
            "text/plain": [
              "                   Model  ... 5-Fold Cross Validation\n",
              "0  Multiple Regression-1  ...                   0.521\n",
              "\n",
              "[1 rows x 8 columns]"
            ]
          },
          "metadata": {
            "tags": []
          },
          "execution_count": 25
        }
      ]
    },
    {
      "cell_type": "code",
      "metadata": {
        "id": "MXpDHt3ryB9S",
        "colab_type": "code",
        "colab": {
          "base_uri": "https://localhost:8080/",
          "height": 85
        },
        "outputId": "9d06080d-425f-459f-9a14-d2aeb6b7e5fb"
      },
      "source": [
        "features2 = ['bedrooms','bathrooms','sqft_living','sqft_lot','floors','zipcode','condition','grade','sqft_above','sqft_basement','yr_built','yr_renovated']\n",
        "model2 = linear_model.LinearRegression()\n",
        "model2.fit(train_data_model1[features],train_data_model1['price'])\n",
        "\n",
        "print(\"Intercept : \",model2.intercept_)\n",
        "print(\"Coefficients : \",model2.coef_)"
      ],
      "execution_count": 28,
      "outputs": [
        {
          "output_type": "stream",
          "text": [
            "Intercept :  1451380.9729368812\n",
            "Coefficients :  [-4.74916724e+04  4.76572620e+04  1.29171999e+02 -2.14288486e-01\n",
            "  2.61790058e+04  5.29904991e+01  2.03309533e+04  1.30901352e+05\n",
            "  5.40114447e+01  7.51605539e+01 -3.82823606e+03  2.48388417e+01]\n"
          ],
          "name": "stdout"
        }
      ]
    },
    {
      "cell_type": "code",
      "metadata": {
        "id": "H7NrXC7Pzlw6",
        "colab_type": "code",
        "colab": {}
      },
      "source": [
        "predict2 = model2.predict(test_data_model1[features2])\n",
        "RMSE_m2 = float(format(np.sqrt(metrics.mean_squared_error(test_data_model1['price'],predict2)),'.3f'))\n",
        "Rtr_m2 = float(format(model2.score(train_data_model1[features2],train_data_model1['price']),'.3f'))\n",
        "ARtr_m2 = float(format(adjustedR2(model2.score(train_data_model1[features2],train_data_model1['price']),train_data_model1.shape[0],len(features2)),'.3f'))\n",
        "\n",
        "RTecm2 = float(format(model2.score(test_data_model1[features2],test_data_model1['price']),'.3f'))\n",
        "ARtecm2 = float(format(adjustedR2(model2.score(test_data_model1[features2],test_data_model1['price']),test_data_model1.shape[0],len(features2)),'.3f'))\n",
        "cv2 = float(format(cross_val_score(model2,df[features2],df['price'],cv=5).mean(),'.3f'))"
      ],
      "execution_count": 0,
      "outputs": []
    },
    {
      "cell_type": "code",
      "metadata": {
        "id": "8DEMPo6f0W4d",
        "colab_type": "code",
        "colab": {
          "base_uri": "https://localhost:8080/",
          "height": 213
        },
        "outputId": "60b2ab1e-c444-4291-d194-11e48c2429ed"
      },
      "source": [
        "r = evaluation.shape[0]\n",
        "evaluation.loc[r] = ['Multiple Regression-2','selected features',RMSE_m2,Rtr_m2,ARtr_m2,RTecm2,ARtecm2,cv2]\n",
        "evaluation.sort_values(by = '5-Fold Cross Validation', ascending=False)"
      ],
      "execution_count": 30,
      "outputs": [
        {
          "output_type": "execute_result",
          "data": {
            "text/html": [
              "<div>\n",
              "<style scoped>\n",
              "    .dataframe tbody tr th:only-of-type {\n",
              "        vertical-align: middle;\n",
              "    }\n",
              "\n",
              "    .dataframe tbody tr th {\n",
              "        vertical-align: top;\n",
              "    }\n",
              "\n",
              "    .dataframe thead th {\n",
              "        text-align: right;\n",
              "    }\n",
              "</style>\n",
              "<table border=\"1\" class=\"dataframe\">\n",
              "  <thead>\n",
              "    <tr style=\"text-align: right;\">\n",
              "      <th></th>\n",
              "      <th>Model</th>\n",
              "      <th>Details</th>\n",
              "      <th>Root Mean Squared Error (RMSE)</th>\n",
              "      <th>R-squared (training)</th>\n",
              "      <th>Adjusted R-squared (training)</th>\n",
              "      <th>R-squared (test)</th>\n",
              "      <th>Adjusted R-squared (test)</th>\n",
              "      <th>5-Fold Cross Validation</th>\n",
              "    </tr>\n",
              "  </thead>\n",
              "  <tbody>\n",
              "    <tr>\n",
              "      <th>1</th>\n",
              "      <td>Multiple Regression-2</td>\n",
              "      <td>selected features</td>\n",
              "      <td>221478.638</td>\n",
              "      <td>0.618</td>\n",
              "      <td>0.618</td>\n",
              "      <td>0.618</td>\n",
              "      <td>0.617</td>\n",
              "      <td>0.614</td>\n",
              "    </tr>\n",
              "    <tr>\n",
              "      <th>0</th>\n",
              "      <td>Multiple Regression-1</td>\n",
              "      <td>selected features</td>\n",
              "      <td>246512.670</td>\n",
              "      <td>0.523</td>\n",
              "      <td>0.523</td>\n",
              "      <td>0.527</td>\n",
              "      <td>0.526</td>\n",
              "      <td>0.521</td>\n",
              "    </tr>\n",
              "  </tbody>\n",
              "</table>\n",
              "</div>"
            ],
            "text/plain": [
              "                   Model  ... 5-Fold Cross Validation\n",
              "1  Multiple Regression-2  ...                   0.614\n",
              "0  Multiple Regression-1  ...                   0.521\n",
              "\n",
              "[2 rows x 8 columns]"
            ]
          },
          "metadata": {
            "tags": []
          },
          "execution_count": 30
        }
      ]
    },
    {
      "cell_type": "code",
      "metadata": {
        "id": "1qUMVlzX04B5",
        "colab_type": "code",
        "colab": {
          "base_uri": "https://localhost:8080/",
          "height": 119
        },
        "outputId": "e7ebd150-6728-4361-c1da-00603b3e3f2f"
      },
      "source": [
        "features3 = ['bedrooms','bathrooms','sqft_living','sqft_lot','floors','zipcode','condition','grade','sqft_above','sqft_basement','yr_built','yr_renovated','zipcode','lat','long','sqft_living15','sqft_lot15']\n",
        "model3 = linear_model.LinearRegression()\n",
        "model3.fit(train_data_model1[features3],train_data_model1['price'])\n",
        "\n",
        "print(\"Intercept : \",model3.intercept_)\n",
        "print(\"Coefficients : \",model3.coef_)"
      ],
      "execution_count": 34,
      "outputs": [
        {
          "output_type": "stream",
          "text": [
            "Intercept :  -5700633.082096208\n",
            "Coefficients :  [-4.47576852e+04  4.37204200e+04  1.22278438e+02  1.46926926e-01\n",
            "  1.04135001e+04 -2.34247199e+02  2.75310490e+04  1.01179908e+05\n",
            "  6.43233518e+01  5.79550861e+01 -2.88444682e+03  3.73917378e+01\n",
            " -2.34247199e+02  5.55024211e+05 -2.46977694e+05  4.09589573e+01\n",
            " -3.04763027e-01]\n"
          ],
          "name": "stdout"
        }
      ]
    },
    {
      "cell_type": "code",
      "metadata": {
        "id": "_DXu2Li41Rot",
        "colab_type": "code",
        "colab": {}
      },
      "source": [
        "predict3 = model3.predict(test_data_model1[features3])\n",
        "RMSE_m3 = float(format(np.sqrt(metrics.mean_squared_error(test_data_model1['price'],predict3)),'.3f'))\n",
        "Rtr_m3 = float(format(model3.score(train_data_model1[features3],train_data_model1['price']),'.3f'))\n",
        "ARtr_m3 = float(format(adjustedR2(model3.score(train_data_model1[features3],train_data_model1['price']),train_data_model1.shape[0],len(features3)),'.3f'))\n",
        "\n",
        "RTecm3 = float(format(model3.score(test_data_model1[features3],test_data_model1['price']),'.3f'))\n",
        "ARtecm3 = float(format(adjustedR2(model3.score(test_data_model1[features3],test_data_model1['price']),test_data_model1.shape[0],len(features3)),'.3f'))\n",
        "cv3 = float(format(cross_val_score(model3,df[features3],df['price'],cv=5).mean(),'.3f'))"
      ],
      "execution_count": 0,
      "outputs": []
    },
    {
      "cell_type": "code",
      "metadata": {
        "id": "T-HtHGGK2crn",
        "colab_type": "code",
        "colab": {
          "base_uri": "https://localhost:8080/",
          "height": 278
        },
        "outputId": "af6bd88a-3748-4636-f17a-28e220d89b6e"
      },
      "source": [
        "r = evaluation.shape[0]\n",
        "evaluation.loc[r] = ['Multiple Regression-3','selected features',RMSE_m3,Rtr_m3,ARtr_m3,RTecm3,ARtecm3,cv3]\n",
        "evaluation.sort_values(by = '5-Fold Cross Validation', ascending=False)"
      ],
      "execution_count": 37,
      "outputs": [
        {
          "output_type": "execute_result",
          "data": {
            "text/html": [
              "<div>\n",
              "<style scoped>\n",
              "    .dataframe tbody tr th:only-of-type {\n",
              "        vertical-align: middle;\n",
              "    }\n",
              "\n",
              "    .dataframe tbody tr th {\n",
              "        vertical-align: top;\n",
              "    }\n",
              "\n",
              "    .dataframe thead th {\n",
              "        text-align: right;\n",
              "    }\n",
              "</style>\n",
              "<table border=\"1\" class=\"dataframe\">\n",
              "  <thead>\n",
              "    <tr style=\"text-align: right;\">\n",
              "      <th></th>\n",
              "      <th>Model</th>\n",
              "      <th>Details</th>\n",
              "      <th>Root Mean Squared Error (RMSE)</th>\n",
              "      <th>R-squared (training)</th>\n",
              "      <th>Adjusted R-squared (training)</th>\n",
              "      <th>R-squared (test)</th>\n",
              "      <th>Adjusted R-squared (test)</th>\n",
              "      <th>5-Fold Cross Validation</th>\n",
              "    </tr>\n",
              "  </thead>\n",
              "  <tbody>\n",
              "    <tr>\n",
              "      <th>2</th>\n",
              "      <td>Multiple Regression-3</td>\n",
              "      <td>selected features</td>\n",
              "      <td>207741.183</td>\n",
              "      <td>0.661</td>\n",
              "      <td>0.661</td>\n",
              "      <td>0.664</td>\n",
              "      <td>0.663</td>\n",
              "      <td>0.658</td>\n",
              "    </tr>\n",
              "    <tr>\n",
              "      <th>1</th>\n",
              "      <td>Multiple Regression-2</td>\n",
              "      <td>selected features</td>\n",
              "      <td>221478.638</td>\n",
              "      <td>0.618</td>\n",
              "      <td>0.618</td>\n",
              "      <td>0.618</td>\n",
              "      <td>0.617</td>\n",
              "      <td>0.614</td>\n",
              "    </tr>\n",
              "    <tr>\n",
              "      <th>0</th>\n",
              "      <td>Multiple Regression-1</td>\n",
              "      <td>selected features</td>\n",
              "      <td>246512.670</td>\n",
              "      <td>0.523</td>\n",
              "      <td>0.523</td>\n",
              "      <td>0.527</td>\n",
              "      <td>0.526</td>\n",
              "      <td>0.521</td>\n",
              "    </tr>\n",
              "  </tbody>\n",
              "</table>\n",
              "</div>"
            ],
            "text/plain": [
              "                   Model  ... 5-Fold Cross Validation\n",
              "2  Multiple Regression-3  ...                   0.658\n",
              "1  Multiple Regression-2  ...                   0.614\n",
              "0  Multiple Regression-1  ...                   0.521\n",
              "\n",
              "[3 rows x 8 columns]"
            ]
          },
          "metadata": {
            "tags": []
          },
          "execution_count": 37
        }
      ]
    },
    {
      "cell_type": "markdown",
      "metadata": {
        "id": "72ev61oLo8vF",
        "colab_type": "text"
      },
      "source": [
        ""
      ]
    }
  ]
}